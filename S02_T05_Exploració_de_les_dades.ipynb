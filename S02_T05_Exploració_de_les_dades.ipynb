{
 "cells": [
  {
   "cell_type": "markdown",
   "metadata": {},
   "source": [
    "# S02 T05: Exploració de les dades\n",
    "\n",
    "#### David Arroyo"
   ]
  },
  {
   "cell_type": "code",
   "execution_count": 1,
   "metadata": {},
   "outputs": [],
   "source": [
    "import pandas as pd"
   ]
  },
  {
   "cell_type": "code",
   "execution_count": 5,
   "metadata": {},
   "outputs": [],
   "source": [
    "# EJERCICIO 1\n",
    "\n",
    "fligth_df = pd.read_csv ('DelayedFligths/DelayedFlights.csv')"
   ]
  },
  {
   "cell_type": "code",
   "execution_count": 7,
   "metadata": {},
   "outputs": [
    {
     "data": {
      "text/plain": [
       "(1936758, 30)"
      ]
     },
     "execution_count": 7,
     "metadata": {},
     "output_type": "execute_result"
    }
   ],
   "source": [
    "fligth_df.shape"
   ]
  },
  {
   "cell_type": "code",
   "execution_count": 9,
   "metadata": {},
   "outputs": [
    {
     "data": {
      "text/html": [
       "<div>\n",
       "<style scoped>\n",
       "    .dataframe tbody tr th:only-of-type {\n",
       "        vertical-align: middle;\n",
       "    }\n",
       "\n",
       "    .dataframe tbody tr th {\n",
       "        vertical-align: top;\n",
       "    }\n",
       "\n",
       "    .dataframe thead th {\n",
       "        text-align: right;\n",
       "    }\n",
       "</style>\n",
       "<table border=\"1\" class=\"dataframe\">\n",
       "  <thead>\n",
       "    <tr style=\"text-align: right;\">\n",
       "      <th></th>\n",
       "      <th>Unnamed: 0</th>\n",
       "      <th>Year</th>\n",
       "      <th>Month</th>\n",
       "      <th>DayofMonth</th>\n",
       "      <th>DayOfWeek</th>\n",
       "      <th>DepTime</th>\n",
       "      <th>CRSDepTime</th>\n",
       "      <th>ArrTime</th>\n",
       "      <th>CRSArrTime</th>\n",
       "      <th>UniqueCarrier</th>\n",
       "      <th>...</th>\n",
       "      <th>TaxiIn</th>\n",
       "      <th>TaxiOut</th>\n",
       "      <th>Cancelled</th>\n",
       "      <th>CancellationCode</th>\n",
       "      <th>Diverted</th>\n",
       "      <th>CarrierDelay</th>\n",
       "      <th>WeatherDelay</th>\n",
       "      <th>NASDelay</th>\n",
       "      <th>SecurityDelay</th>\n",
       "      <th>LateAircraftDelay</th>\n",
       "    </tr>\n",
       "  </thead>\n",
       "  <tbody>\n",
       "    <tr>\n",
       "      <th>0</th>\n",
       "      <td>0</td>\n",
       "      <td>2008</td>\n",
       "      <td>1</td>\n",
       "      <td>3</td>\n",
       "      <td>4</td>\n",
       "      <td>2003.0</td>\n",
       "      <td>1955</td>\n",
       "      <td>2211.0</td>\n",
       "      <td>2225</td>\n",
       "      <td>WN</td>\n",
       "      <td>...</td>\n",
       "      <td>4.0</td>\n",
       "      <td>8.0</td>\n",
       "      <td>0</td>\n",
       "      <td>N</td>\n",
       "      <td>0</td>\n",
       "      <td>NaN</td>\n",
       "      <td>NaN</td>\n",
       "      <td>NaN</td>\n",
       "      <td>NaN</td>\n",
       "      <td>NaN</td>\n",
       "    </tr>\n",
       "    <tr>\n",
       "      <th>1</th>\n",
       "      <td>1</td>\n",
       "      <td>2008</td>\n",
       "      <td>1</td>\n",
       "      <td>3</td>\n",
       "      <td>4</td>\n",
       "      <td>754.0</td>\n",
       "      <td>735</td>\n",
       "      <td>1002.0</td>\n",
       "      <td>1000</td>\n",
       "      <td>WN</td>\n",
       "      <td>...</td>\n",
       "      <td>5.0</td>\n",
       "      <td>10.0</td>\n",
       "      <td>0</td>\n",
       "      <td>N</td>\n",
       "      <td>0</td>\n",
       "      <td>NaN</td>\n",
       "      <td>NaN</td>\n",
       "      <td>NaN</td>\n",
       "      <td>NaN</td>\n",
       "      <td>NaN</td>\n",
       "    </tr>\n",
       "    <tr>\n",
       "      <th>2</th>\n",
       "      <td>2</td>\n",
       "      <td>2008</td>\n",
       "      <td>1</td>\n",
       "      <td>3</td>\n",
       "      <td>4</td>\n",
       "      <td>628.0</td>\n",
       "      <td>620</td>\n",
       "      <td>804.0</td>\n",
       "      <td>750</td>\n",
       "      <td>WN</td>\n",
       "      <td>...</td>\n",
       "      <td>3.0</td>\n",
       "      <td>17.0</td>\n",
       "      <td>0</td>\n",
       "      <td>N</td>\n",
       "      <td>0</td>\n",
       "      <td>NaN</td>\n",
       "      <td>NaN</td>\n",
       "      <td>NaN</td>\n",
       "      <td>NaN</td>\n",
       "      <td>NaN</td>\n",
       "    </tr>\n",
       "    <tr>\n",
       "      <th>3</th>\n",
       "      <td>4</td>\n",
       "      <td>2008</td>\n",
       "      <td>1</td>\n",
       "      <td>3</td>\n",
       "      <td>4</td>\n",
       "      <td>1829.0</td>\n",
       "      <td>1755</td>\n",
       "      <td>1959.0</td>\n",
       "      <td>1925</td>\n",
       "      <td>WN</td>\n",
       "      <td>...</td>\n",
       "      <td>3.0</td>\n",
       "      <td>10.0</td>\n",
       "      <td>0</td>\n",
       "      <td>N</td>\n",
       "      <td>0</td>\n",
       "      <td>2.0</td>\n",
       "      <td>0.0</td>\n",
       "      <td>0.0</td>\n",
       "      <td>0.0</td>\n",
       "      <td>32.0</td>\n",
       "    </tr>\n",
       "    <tr>\n",
       "      <th>4</th>\n",
       "      <td>5</td>\n",
       "      <td>2008</td>\n",
       "      <td>1</td>\n",
       "      <td>3</td>\n",
       "      <td>4</td>\n",
       "      <td>1940.0</td>\n",
       "      <td>1915</td>\n",
       "      <td>2121.0</td>\n",
       "      <td>2110</td>\n",
       "      <td>WN</td>\n",
       "      <td>...</td>\n",
       "      <td>4.0</td>\n",
       "      <td>10.0</td>\n",
       "      <td>0</td>\n",
       "      <td>N</td>\n",
       "      <td>0</td>\n",
       "      <td>NaN</td>\n",
       "      <td>NaN</td>\n",
       "      <td>NaN</td>\n",
       "      <td>NaN</td>\n",
       "      <td>NaN</td>\n",
       "    </tr>\n",
       "  </tbody>\n",
       "</table>\n",
       "<p>5 rows × 30 columns</p>\n",
       "</div>"
      ],
      "text/plain": [
       "   Unnamed: 0  Year  Month  DayofMonth  DayOfWeek  DepTime  CRSDepTime  \\\n",
       "0           0  2008      1           3          4   2003.0        1955   \n",
       "1           1  2008      1           3          4    754.0         735   \n",
       "2           2  2008      1           3          4    628.0         620   \n",
       "3           4  2008      1           3          4   1829.0        1755   \n",
       "4           5  2008      1           3          4   1940.0        1915   \n",
       "\n",
       "   ArrTime  CRSArrTime UniqueCarrier  ...  TaxiIn TaxiOut  Cancelled  \\\n",
       "0   2211.0        2225            WN  ...     4.0     8.0          0   \n",
       "1   1002.0        1000            WN  ...     5.0    10.0          0   \n",
       "2    804.0         750            WN  ...     3.0    17.0          0   \n",
       "3   1959.0        1925            WN  ...     3.0    10.0          0   \n",
       "4   2121.0        2110            WN  ...     4.0    10.0          0   \n",
       "\n",
       "   CancellationCode  Diverted  CarrierDelay  WeatherDelay NASDelay  \\\n",
       "0                 N         0           NaN           NaN      NaN   \n",
       "1                 N         0           NaN           NaN      NaN   \n",
       "2                 N         0           NaN           NaN      NaN   \n",
       "3                 N         0           2.0           0.0      0.0   \n",
       "4                 N         0           NaN           NaN      NaN   \n",
       "\n",
       "  SecurityDelay  LateAircraftDelay  \n",
       "0           NaN                NaN  \n",
       "1           NaN                NaN  \n",
       "2           NaN                NaN  \n",
       "3           0.0               32.0  \n",
       "4           NaN                NaN  \n",
       "\n",
       "[5 rows x 30 columns]"
      ]
     },
     "execution_count": 9,
     "metadata": {},
     "output_type": "execute_result"
    }
   ],
   "source": [
    "fligth_df.head()"
   ]
  },
  {
   "cell_type": "code",
   "execution_count": 10,
   "metadata": {},
   "outputs": [
    {
     "name": "stdout",
     "output_type": "stream",
     "text": [
      "<class 'pandas.core.frame.DataFrame'>\n",
      "RangeIndex: 1936758 entries, 0 to 1936757\n",
      "Data columns (total 30 columns):\n",
      " #   Column             Dtype  \n",
      "---  ------             -----  \n",
      " 0   Unnamed: 0         int64  \n",
      " 1   Year               int64  \n",
      " 2   Month              int64  \n",
      " 3   DayofMonth         int64  \n",
      " 4   DayOfWeek          int64  \n",
      " 5   DepTime            float64\n",
      " 6   CRSDepTime         int64  \n",
      " 7   ArrTime            float64\n",
      " 8   CRSArrTime         int64  \n",
      " 9   UniqueCarrier      object \n",
      " 10  FlightNum          int64  \n",
      " 11  TailNum            object \n",
      " 12  ActualElapsedTime  float64\n",
      " 13  CRSElapsedTime     float64\n",
      " 14  AirTime            float64\n",
      " 15  ArrDelay           float64\n",
      " 16  DepDelay           float64\n",
      " 17  Origin             object \n",
      " 18  Dest               object \n",
      " 19  Distance           int64  \n",
      " 20  TaxiIn             float64\n",
      " 21  TaxiOut            float64\n",
      " 22  Cancelled          int64  \n",
      " 23  CancellationCode   object \n",
      " 24  Diverted           int64  \n",
      " 25  CarrierDelay       float64\n",
      " 26  WeatherDelay       float64\n",
      " 27  NASDelay           float64\n",
      " 28  SecurityDelay      float64\n",
      " 29  LateAircraftDelay  float64\n",
      "dtypes: float64(14), int64(11), object(5)\n",
      "memory usage: 443.3+ MB\n",
      "None\n"
     ]
    }
   ],
   "source": [
    "print (fligth_df.info())"
   ]
  },
  {
   "cell_type": "code",
   "execution_count": 31,
   "metadata": {},
   "outputs": [
    {
     "data": {
      "text/plain": [
       "303"
      ]
     },
     "execution_count": 31,
     "metadata": {},
     "output_type": "execute_result"
    }
   ],
   "source": [
    "'''\n",
    "Solo hay variables del 2008 - No es interesante esta columna a nivel de análisis\n",
    "'''\n",
    "\n",
    "len(fligth_df['Origin'].unique().tolist())"
   ]
  },
  {
   "cell_type": "code",
   "execution_count": 35,
   "metadata": {},
   "outputs": [
    {
     "name": "stdout",
     "output_type": "stream",
     "text": [
      "Datos únicos en cada columna de interes:\n",
      "Mont:              12\n",
      "DayofMonth:        31\n",
      "DayOfWeek:         7\n",
      "DepTime:           1438\n",
      "UniqueCarrier:     20\n",
      "DepDelay:          1058\n",
      "Cancelled:         2\n",
      "CarrierDelay:      984\n",
      "WeatherDelay:      600\n",
      "NASDelay:          575\n",
      "SecurityDelay:     157\n",
      "LateAircraftDelay: 565\n",
      "Origin:            303\n"
     ]
    }
   ],
   "source": [
    "'''\n",
    "Analizaremos la situacion general de los vuelos en el año 2008, enfocandonos principalmente en los vuelos retrasados.\n",
    "Consideraremos vuelos retrasados aquellos vuelos que salgan con mas de 10 min de diferencia con respecto a la hora estimada de \n",
    "salida. \n",
    "\n",
    "Algunas preguntas a responder:\n",
    "\n",
    "- En que mes/día se producen mas retrasos en la salida de los vuelos?\n",
    "- Que porcentaje de vuelos se retrasan / cancelan?\n",
    "- Cuales son los 5 Aeropuertos donde mas se producen retrasos en la salida de vuelos?\n",
    "- Cual es la causa principal de los retrasos?\n",
    "- Que aerolinea es la que mas retrasos tuvo en 2008 y cual tuvo menos?\n",
    "\n",
    "Para dar respuesta a estas preguntas conservaremos las siguientes columas del DF:\n",
    "\n",
    "Month\n",
    "DayofMonth \n",
    "DayOfWeek\n",
    "DepTime\n",
    "UniqueCarrier\n",
    "DepDelay\n",
    "Cancelled\n",
    "CarrierDelay\n",
    "WeatherDelay\n",
    "NASDelay\n",
    "SecurityDelay\n",
    "LateAircraftDelay\n",
    "Origin\n",
    "\n",
    "'''\n",
    "\n",
    "print (\"Datos únicos en cada columna de interes:\")\n",
    "print (\"Mont:              {}\".format (len(fligth_df['Month'].unique().tolist())))\n",
    "print (\"DayofMonth:        {}\".format (len(fligth_df['DayofMonth'].unique().tolist())))\n",
    "print (\"DayOfWeek:         {}\".format (len(fligth_df['DayOfWeek'].unique().tolist())))\n",
    "print (\"DepTime:           {}\".format (len(fligth_df['DepTime'].unique().tolist())))\n",
    "print (\"UniqueCarrier:     {}\".format (len(fligth_df['UniqueCarrier'].unique().tolist())))\n",
    "print (\"DepDelay:          {}\".format (len(fligth_df['DepDelay'].unique().tolist())))\n",
    "print (\"Cancelled:         {}\".format (len(fligth_df['Cancelled'].unique().tolist())))\n",
    "print (\"CarrierDelay:      {}\".format (len(fligth_df['CarrierDelay'].unique().tolist())))\n",
    "print (\"WeatherDelay:      {}\".format (len(fligth_df['WeatherDelay'].unique().tolist())))\n",
    "print (\"NASDelay:          {}\".format (len(fligth_df['NASDelay'].unique().tolist())))\n",
    "print (\"SecurityDelay:     {}\".format (len(fligth_df['SecurityDelay'].unique().tolist())))\n",
    "print (\"LateAircraftDelay: {}\".format (len(fligth_df['LateAircraftDelay'].unique().tolist())))\n",
    "print (\"Origin:            {}\".format (len(fligth_df['Origin'].unique().tolist())))\n"
   ]
  },
  {
   "cell_type": "code",
   "execution_count": 42,
   "metadata": {},
   "outputs": [
    {
     "name": "stdout",
     "output_type": "stream",
     "text": [
      "<class 'pandas.core.frame.DataFrame'>\n",
      "RangeIndex: 1936758 entries, 0 to 1936757\n",
      "Data columns (total 13 columns):\n",
      " #   Column             Dtype  \n",
      "---  ------             -----  \n",
      " 0   Month              int64  \n",
      " 1   DayofMonth         int64  \n",
      " 2   DayOfWeek          int64  \n",
      " 3   DepTime            float64\n",
      " 4   UniqueCarrier      object \n",
      " 5   DepDelay           float64\n",
      " 6   Origin             object \n",
      " 7   Cancelled          int64  \n",
      " 8   CarrierDelay       float64\n",
      " 9   WeatherDelay       float64\n",
      " 10  NASDelay           float64\n",
      " 11  SecurityDelay      float64\n",
      " 12  LateAircraftDelay  float64\n",
      "dtypes: float64(7), int64(4), object(2)\n",
      "memory usage: 192.1+ MB\n",
      "None\n"
     ]
    }
   ],
   "source": [
    "usefull_fligth_df = fligth_df.drop(labels=['Unnamed: 0','Year','CRSDepTime', 'ArrTime','CRSArrTime','FlightNum','TailNum','ActualElapsedTime',\n",
    "                                          'CRSElapsedTime','AirTime','ArrDelay','Dest','Distance','TaxiIn','TaxiOut','CancellationCode',\n",
    "                                          'Diverted'], axis = 1)\n",
    "\n",
    "print(usefull_fligth_df.info())"
   ]
  },
  {
   "cell_type": "code",
   "execution_count": 43,
   "metadata": {},
   "outputs": [
    {
     "data": {
      "text/html": [
       "<div>\n",
       "<style scoped>\n",
       "    .dataframe tbody tr th:only-of-type {\n",
       "        vertical-align: middle;\n",
       "    }\n",
       "\n",
       "    .dataframe tbody tr th {\n",
       "        vertical-align: top;\n",
       "    }\n",
       "\n",
       "    .dataframe thead th {\n",
       "        text-align: right;\n",
       "    }\n",
       "</style>\n",
       "<table border=\"1\" class=\"dataframe\">\n",
       "  <thead>\n",
       "    <tr style=\"text-align: right;\">\n",
       "      <th></th>\n",
       "      <th>Month</th>\n",
       "      <th>DayofMonth</th>\n",
       "      <th>DayOfWeek</th>\n",
       "      <th>DepTime</th>\n",
       "      <th>UniqueCarrier</th>\n",
       "      <th>DepDelay</th>\n",
       "      <th>Origin</th>\n",
       "      <th>Cancelled</th>\n",
       "      <th>CarrierDelay</th>\n",
       "      <th>WeatherDelay</th>\n",
       "      <th>NASDelay</th>\n",
       "      <th>SecurityDelay</th>\n",
       "      <th>LateAircraftDelay</th>\n",
       "    </tr>\n",
       "  </thead>\n",
       "  <tbody>\n",
       "    <tr>\n",
       "      <th>0</th>\n",
       "      <td>1</td>\n",
       "      <td>3</td>\n",
       "      <td>4</td>\n",
       "      <td>2003.0</td>\n",
       "      <td>WN</td>\n",
       "      <td>8.0</td>\n",
       "      <td>IAD</td>\n",
       "      <td>0</td>\n",
       "      <td>NaN</td>\n",
       "      <td>NaN</td>\n",
       "      <td>NaN</td>\n",
       "      <td>NaN</td>\n",
       "      <td>NaN</td>\n",
       "    </tr>\n",
       "    <tr>\n",
       "      <th>1</th>\n",
       "      <td>1</td>\n",
       "      <td>3</td>\n",
       "      <td>4</td>\n",
       "      <td>754.0</td>\n",
       "      <td>WN</td>\n",
       "      <td>19.0</td>\n",
       "      <td>IAD</td>\n",
       "      <td>0</td>\n",
       "      <td>NaN</td>\n",
       "      <td>NaN</td>\n",
       "      <td>NaN</td>\n",
       "      <td>NaN</td>\n",
       "      <td>NaN</td>\n",
       "    </tr>\n",
       "    <tr>\n",
       "      <th>2</th>\n",
       "      <td>1</td>\n",
       "      <td>3</td>\n",
       "      <td>4</td>\n",
       "      <td>628.0</td>\n",
       "      <td>WN</td>\n",
       "      <td>8.0</td>\n",
       "      <td>IND</td>\n",
       "      <td>0</td>\n",
       "      <td>NaN</td>\n",
       "      <td>NaN</td>\n",
       "      <td>NaN</td>\n",
       "      <td>NaN</td>\n",
       "      <td>NaN</td>\n",
       "    </tr>\n",
       "    <tr>\n",
       "      <th>3</th>\n",
       "      <td>1</td>\n",
       "      <td>3</td>\n",
       "      <td>4</td>\n",
       "      <td>1829.0</td>\n",
       "      <td>WN</td>\n",
       "      <td>34.0</td>\n",
       "      <td>IND</td>\n",
       "      <td>0</td>\n",
       "      <td>2.0</td>\n",
       "      <td>0.0</td>\n",
       "      <td>0.0</td>\n",
       "      <td>0.0</td>\n",
       "      <td>32.0</td>\n",
       "    </tr>\n",
       "    <tr>\n",
       "      <th>4</th>\n",
       "      <td>1</td>\n",
       "      <td>3</td>\n",
       "      <td>4</td>\n",
       "      <td>1940.0</td>\n",
       "      <td>WN</td>\n",
       "      <td>25.0</td>\n",
       "      <td>IND</td>\n",
       "      <td>0</td>\n",
       "      <td>NaN</td>\n",
       "      <td>NaN</td>\n",
       "      <td>NaN</td>\n",
       "      <td>NaN</td>\n",
       "      <td>NaN</td>\n",
       "    </tr>\n",
       "  </tbody>\n",
       "</table>\n",
       "</div>"
      ],
      "text/plain": [
       "   Month  DayofMonth  DayOfWeek  DepTime UniqueCarrier  DepDelay Origin  \\\n",
       "0      1           3          4   2003.0            WN       8.0    IAD   \n",
       "1      1           3          4    754.0            WN      19.0    IAD   \n",
       "2      1           3          4    628.0            WN       8.0    IND   \n",
       "3      1           3          4   1829.0            WN      34.0    IND   \n",
       "4      1           3          4   1940.0            WN      25.0    IND   \n",
       "\n",
       "   Cancelled  CarrierDelay  WeatherDelay  NASDelay  SecurityDelay  \\\n",
       "0          0           NaN           NaN       NaN            NaN   \n",
       "1          0           NaN           NaN       NaN            NaN   \n",
       "2          0           NaN           NaN       NaN            NaN   \n",
       "3          0           2.0           0.0       0.0            0.0   \n",
       "4          0           NaN           NaN       NaN            NaN   \n",
       "\n",
       "   LateAircraftDelay  \n",
       "0                NaN  \n",
       "1                NaN  \n",
       "2                NaN  \n",
       "3               32.0  \n",
       "4                NaN  "
      ]
     },
     "execution_count": 43,
     "metadata": {},
     "output_type": "execute_result"
    }
   ],
   "source": [
    "usefull_fligth_df.head()"
   ]
  },
  {
   "cell_type": "code",
   "execution_count": 46,
   "metadata": {},
   "outputs": [
    {
     "data": {
      "text/plain": [
       "Month                     0\n",
       "DayofMonth                0\n",
       "DayOfWeek                 0\n",
       "DepTime                   0\n",
       "UniqueCarrier             0\n",
       "DepDelay                  0\n",
       "Origin                    0\n",
       "Cancelled                 0\n",
       "CarrierDelay         689270\n",
       "WeatherDelay         689270\n",
       "NASDelay             689270\n",
       "SecurityDelay        689270\n",
       "LateAircraftDelay    689270\n",
       "dtype: int64"
      ]
     },
     "execution_count": 46,
     "metadata": {},
     "output_type": "execute_result"
    }
   ],
   "source": [
    "# EJERCICIO 2\n",
    "'''\n",
    "Vemos que los valores nulos o NaN se encuentran en las columnas de causas de retraso. Nos afetará para determinar cual causa \n",
    "de retraso es la mas comun.\n",
    "\n",
    "'''\n",
    "usefull_fligth_df.isnull().sum()"
   ]
  },
  {
   "cell_type": "code",
   "execution_count": 61,
   "metadata": {},
   "outputs": [],
   "source": [
    "'''\n",
    "MES DEL AÑO CON MAS RETRASOS\n",
    "'''\n",
    "meses = ['Enero', 'Febrero', 'Marzo', 'Abril', 'Mayo', 'Junio', 'Julio', 'Agosto', 'Septiembre', 'Octubre', 'Noviembre', 'Diciembre']\n",
    "retrasos_mes = []\n",
    "\n",
    "for i in range (1,13):\n",
    "    retraso = usefull_fligth_df[(usefull_fligth_df['Month'] == i) & (usefull_fligth_df['DepDelay'] > 10)].count()['DepDelay']\n",
    "    retrasos_mes.append(retraso)\n",
    "\n",
    "max_value_retrasos = max(retrasos_mes)\n",
    "\n",
    "index_max_value_retrasos = retrasos_mes.index(max_value_retrasos)"
   ]
  },
  {
   "cell_type": "code",
   "execution_count": 56,
   "metadata": {},
   "outputs": [
    {
     "name": "stdout",
     "output_type": "stream",
     "text": [
      "[183527, 189534, 200842, 155264, 153072, 200914, 182945, 162648, 95539, 103525, 105563, 203385]\n"
     ]
    }
   ],
   "source": [
    "vuelos_mes = []\n",
    "\n",
    "for i in range (1,13):\n",
    "    vuelos = usefull_fligth_df[(usefull_fligth_df['Month'] == i)].count()['DepDelay']\n",
    "    vuelos_mes.append(vuelos)\n",
    "    \n",
    "print (vuelos_mes)"
   ]
  },
  {
   "cell_type": "code",
   "execution_count": 64,
   "metadata": {},
   "outputs": [],
   "source": [
    "porcentaje_retrasos_mes = []\n",
    "\n",
    "for i in range (12):\n",
    "    porcentaje_retrasos = 100 * (retrasos_mes[i]/vuelos_mes[i])\n",
    "    porcentaje_retrasos_mes.append(porcentaje_retrasos)\n",
    "\n",
    "max_porcentaje_retrasos = max(porcentaje_retrasos_mes)  \n",
    "\n",
    "index_max_porcentaje_retrasos = porcentaje_retrasos_mes.index(max_porcentaje_retrasos)    "
   ]
  },
  {
   "cell_type": "code",
   "execution_count": 67,
   "metadata": {},
   "outputs": [
    {
     "name": "stdout",
     "output_type": "stream",
     "text": [
      "Mes con mas retrasos: Diciembre, con 168558 retrasos\n",
      "Mes con mayor porcentaje de retrasos respecto a los vuelos realizados: Diciembre, con 82.87631831255993% \n",
      "de los vuelos retrasados\n"
     ]
    }
   ],
   "source": [
    "print (\"Mes con mas retrasos: {}, con {} retrasos\".format(meses[index_max_value_retrasos], max_value_retrasos ))\n",
    "print (\"Mes con mayor porcentaje de retrasos respecto a los vuelos realizados: {}, con {}% \\nde los vuelos retrasados\". format(meses[index_max_porcentaje_retrasos],max_porcentaje_retrasos))"
   ]
  },
  {
   "cell_type": "code",
   "execution_count": 68,
   "metadata": {},
   "outputs": [],
   "source": [
    "'''\n",
    "DIA DE LA SEMANA CON MAS RETRASOS\n",
    "'''\n",
    "dias = ['Lunes', 'Martes', 'Miercoles', 'Jueves', 'Viernes', 'Sabado', 'Doming']\n",
    "retrasos_dia = []\n",
    "\n",
    "for i in range (1,8):\n",
    "    retraso_dia = usefull_fligth_df[(usefull_fligth_df['DayOfWeek'] == i) & (usefull_fligth_df['DepDelay'] > 10)].count()['DepDelay']\n",
    "    retrasos_dia.append(retraso_dia)\n",
    "\n",
    "max_value_retrasos_dia = max(retrasos_dia)\n",
    "\n",
    "index_max_value_retrasos_dia = retrasos_dia.index(max_value_retrasos_dia)"
   ]
  },
  {
   "cell_type": "code",
   "execution_count": 72,
   "metadata": {},
   "outputs": [
    {
     "name": "stdout",
     "output_type": "stream",
     "text": [
      "[290933, 260943, 262805, 289451, 323259, 223256, 286111]\n"
     ]
    }
   ],
   "source": [
    "vuelos_dia = []\n",
    "\n",
    "for i in range (1,8):\n",
    "    vuelo_dia = usefull_fligth_df[(usefull_fligth_df['DayOfWeek'] == i)].count()['DepDelay']\n",
    "    vuelos_dia.append(vuelo_dia)\n",
    "    \n",
    "print (vuelos_dia)"
   ]
  },
  {
   "cell_type": "code",
   "execution_count": 74,
   "metadata": {},
   "outputs": [],
   "source": [
    "porcentaje_retrasos_dia = []\n",
    "\n",
    "for i in range (7):\n",
    "    porcentaje_retraso_dia = 100 * (retrasos_dia[i]/vuelos_dia[i])\n",
    "    porcentaje_retrasos_dia.append(porcentaje_retraso_dia)\n",
    "\n",
    "max_porcentaje_retrasos_dia = max(porcentaje_retrasos_dia)  \n",
    "\n",
    "index_max_porcentaje_retrasos_dia = porcentaje_retrasos_dia.index(max_porcentaje_retrasos_dia)    "
   ]
  },
  {
   "cell_type": "code",
   "execution_count": 75,
   "metadata": {},
   "outputs": [
    {
     "name": "stdout",
     "output_type": "stream",
     "text": [
      "Día con mas retrasos: Viernes, con 260639 retrasos\n",
      "Día con mayor porcentaje de retrasos respecto a los vuelos realizados: Viernes, con 80.62853625111752% \n",
      "de los vuelos retrasados\n"
     ]
    }
   ],
   "source": [
    "print (\"Día con mas retrasos: {}, con {} retrasos\".format(dias[index_max_value_retrasos_dia], max_value_retrasos_dia ))\n",
    "print (\"Día con mayor porcentaje de retrasos respecto a los vuelos realizados: {}, con {}% \\nde los vuelos retrasados\". format(dias[index_max_porcentaje_retrasos_dia],max_porcentaje_retrasos_dia))"
   ]
  },
  {
   "cell_type": "code",
   "execution_count": 82,
   "metadata": {},
   "outputs": [
    {
     "name": "stdout",
     "output_type": "stream",
     "text": [
      "Se retrasaron 79.59688303856238% de los vuelos registrados en 2008\n"
     ]
    }
   ],
   "source": [
    "'''\n",
    "PORCENTAJE DE VUELOS QUE SE RETRASAN Y CANCELAN\n",
    "'''\n",
    "vuelos_retrasados = usefull_fligth_df[(usefull_fligth_df['DepDelay'] > 10)].count()['DepDelay']\n",
    "\n",
    "total_vuelos = usefull_fligth_df.count()['Month']\n",
    "\n",
    "porcentaje_vuelos_retrasados = 100*vuelos_retrasados/total_vuelos\n",
    "\n",
    "print (\"Se retrasaron {}% de los vuelos registrados en 2008\".format(porcentaje_vuelos_retrasados))\n",
    "\n"
   ]
  },
  {
   "cell_type": "code",
   "execution_count": 84,
   "metadata": {},
   "outputs": [
    {
     "name": "stdout",
     "output_type": "stream",
     "text": [
      "Se cancelaron 0.03268348446217855% de los vuelos registrados en 2008\n"
     ]
    }
   ],
   "source": [
    "vuelos_cancelados = usefull_fligth_df[(usefull_fligth_df['Cancelled'] == 1)].count()['Cancelled']\n",
    "\n",
    "porcentaje_vuelos_cancelados = 100*vuelos_cancelados/total_vuelos\n",
    "\n",
    "print (\"Se cancelaron {}% de los vuelos registrados en 2008\".format(porcentaje_vuelos_cancelados))\n"
   ]
  },
  {
   "cell_type": "code",
   "execution_count": 96,
   "metadata": {},
   "outputs": [],
   "source": [
    "'''\n",
    "AEROLINEA CON MAS RETRASOS\n",
    "'''\n",
    "aerolineas = usefull_fligth_df['UniqueCarrier'].unique().tolist()\n"
   ]
  },
  {
   "cell_type": "code",
   "execution_count": 95,
   "metadata": {},
   "outputs": [],
   "source": [
    "vuelos_aerolinea = []\n",
    "\n",
    "for i in range (len(aerolineas)):\n",
    "    vuelos_realizados = usefull_fligth_df[(usefull_fligth_df['UniqueCarrier'] == aerolineas[i])].count()['UniqueCarrier']\n",
    "    vuelos_aerolinea.append(vuelos_realizados)\n",
    "   \n",
    "    "
   ]
  },
  {
   "cell_type": "code",
   "execution_count": 102,
   "metadata": {},
   "outputs": [
    {
     "name": "stdout",
     "output_type": "stream",
     "text": [
      "La aerolinea con mas retrasos acumulados es: WN con 286407 vuelos retrasados\n"
     ]
    }
   ],
   "source": [
    "vuelos_aerolinea_retrasados = []\n",
    "\n",
    "for i in range (len(aerolineas)):\n",
    "    vuelos_retrasados = usefull_fligth_df[(usefull_fligth_df['UniqueCarrier'] == aerolineas[i]) & (usefull_fligth_df['DepDelay'] > 10)].count()['UniqueCarrier']\n",
    "    vuelos_aerolinea_retrasados.append(vuelos_retrasados)\n",
    "    \n",
    "max_cantidad_retrasos_aerolinea = max(vuelos_aerolinea_retrasados)  \n",
    "\n",
    "index_max_cantidad_retrasos_aerolinea = vuelos_aerolinea_retrasados.index(max_cantidad_retrasos_aerolinea)    \n",
    "\n",
    "print ('La aerolinea con mas retrasos acumulados es: {} con {} vuelos retrasados'.format(aerolineas[index_max_cantidad_retrasos_aerolinea],max_cantidad_retrasos_aerolinea) )"
   ]
  },
  {
   "cell_type": "code",
   "execution_count": 103,
   "metadata": {},
   "outputs": [
    {
     "name": "stdout",
     "output_type": "stream",
     "text": [
      "La aerolinea con mas porcentaje de retrasos es: YV con 85.36301686473912% de los vuelos retrasados\n"
     ]
    }
   ],
   "source": [
    "porcentaje_vuelos_retrasados = []\n",
    "\n",
    "for i in range (len(aerolineas)):\n",
    "    porcentaje = 100 * vuelos_aerolinea_retrasados[i]/vuelos_aerolinea[i]\n",
    "    porcentaje_vuelos_retrasados.append(porcentaje)\n",
    " \n",
    "max_porcentaje_retrasos_aerolinea = max(porcentaje_vuelos_retrasados) \n",
    "\n",
    "index_max_porcentaje_retrasos_aerolinea = porcentaje_vuelos_retrasados.index(max_porcentaje_retrasos_aerolinea)    \n",
    "\n",
    "print ('La aerolinea con mas porcentaje de retrasos es: {} con {}% de los vuelos retrasados'.format(aerolineas[index_max_porcentaje_retrasos_aerolinea],max_porcentaje_retrasos_aerolinea) )"
   ]
  },
  {
   "cell_type": "code",
   "execution_count": 104,
   "metadata": {},
   "outputs": [],
   "source": [
    "retrasos_aerolineas_df = pd.DataFrame (list(zip(aerolineas,vuelos_aerolinea,vuelos_aerolinea_retrasados,porcentaje_vuelos_retrasados)), columns =['Aerolinea','TotalVuelos','VuelosRetrasados','PorcentajeRetrasos'])"
   ]
  },
  {
   "cell_type": "code",
   "execution_count": 105,
   "metadata": {},
   "outputs": [
    {
     "data": {
      "text/html": [
       "<div>\n",
       "<style scoped>\n",
       "    .dataframe tbody tr th:only-of-type {\n",
       "        vertical-align: middle;\n",
       "    }\n",
       "\n",
       "    .dataframe tbody tr th {\n",
       "        vertical-align: top;\n",
       "    }\n",
       "\n",
       "    .dataframe thead th {\n",
       "        text-align: right;\n",
       "    }\n",
       "</style>\n",
       "<table border=\"1\" class=\"dataframe\">\n",
       "  <thead>\n",
       "    <tr style=\"text-align: right;\">\n",
       "      <th></th>\n",
       "      <th>Aerolinea</th>\n",
       "      <th>TotalVuelos</th>\n",
       "      <th>VuelosRetrasados</th>\n",
       "      <th>PorcentajeRetrasos</th>\n",
       "    </tr>\n",
       "  </thead>\n",
       "  <tbody>\n",
       "    <tr>\n",
       "      <th>0</th>\n",
       "      <td>WN</td>\n",
       "      <td>377602</td>\n",
       "      <td>286407</td>\n",
       "      <td>75.848910</td>\n",
       "    </tr>\n",
       "    <tr>\n",
       "      <th>1</th>\n",
       "      <td>XE</td>\n",
       "      <td>103663</td>\n",
       "      <td>84964</td>\n",
       "      <td>81.961741</td>\n",
       "    </tr>\n",
       "    <tr>\n",
       "      <th>2</th>\n",
       "      <td>YV</td>\n",
       "      <td>67063</td>\n",
       "      <td>57247</td>\n",
       "      <td>85.363017</td>\n",
       "    </tr>\n",
       "    <tr>\n",
       "      <th>3</th>\n",
       "      <td>OH</td>\n",
       "      <td>52657</td>\n",
       "      <td>44418</td>\n",
       "      <td>84.353457</td>\n",
       "    </tr>\n",
       "    <tr>\n",
       "      <th>4</th>\n",
       "      <td>OO</td>\n",
       "      <td>132433</td>\n",
       "      <td>105146</td>\n",
       "      <td>79.395619</td>\n",
       "    </tr>\n",
       "  </tbody>\n",
       "</table>\n",
       "</div>"
      ],
      "text/plain": [
       "  Aerolinea  TotalVuelos  VuelosRetrasados  PorcentajeRetrasos\n",
       "0        WN       377602            286407           75.848910\n",
       "1        XE       103663             84964           81.961741\n",
       "2        YV        67063             57247           85.363017\n",
       "3        OH        52657             44418           84.353457\n",
       "4        OO       132433            105146           79.395619"
      ]
     },
     "execution_count": 105,
     "metadata": {},
     "output_type": "execute_result"
    }
   ],
   "source": [
    "retrasos_aerolineas_df.head()"
   ]
  },
  {
   "cell_type": "markdown",
   "metadata": {},
   "source": [
    "#### AEROLINEA CON MAS VUELOS REALIZADOS\n",
    "\n",
    "<img align=\"rigth\" src= \"Images/AirlineFligths.png\" width=\"600\" > \n",
    "\n",
    "#### TIEMPO PROMEDIO DE RETRASO POR AEROLINEA\n",
    "\n",
    "<img align=\"rigth\" src= \"Images/Delays_Airlines.png\" width=\"600\" > "
   ]
  },
  {
   "cell_type": "code",
   "execution_count": 107,
   "metadata": {},
   "outputs": [],
   "source": [
    "# EJERCICIO 3\n",
    "\n",
    "'''\n",
    "DISMINUIR EL NUMERO DE FILAS DE DF PARA PODER ALMACENARLO EN EXCEL\n",
    "'''\n",
    "\n",
    "sliced_usefull_fligth_df =usefull_fligth_df.iloc[0:1000000,:]"
   ]
  },
  {
   "cell_type": "code",
   "execution_count": 108,
   "metadata": {},
   "outputs": [],
   "source": [
    "with pd.ExcelWriter('USFligths2008.xlsx') as writer:\n",
    "    sliced_usefull_fligth_df.to_excel(writer, sheet_name = 'Fligths')\n",
    "    retrasos_aerolineas_df.to_excel(writer,sheet_name = 'Airlines')"
   ]
  },
  {
   "cell_type": "code",
   "execution_count": null,
   "metadata": {},
   "outputs": [],
   "source": []
  },
  {
   "cell_type": "code",
   "execution_count": null,
   "metadata": {},
   "outputs": [],
   "source": []
  }
 ],
 "metadata": {
  "kernelspec": {
   "display_name": "Python 3",
   "language": "python",
   "name": "python3"
  },
  "language_info": {
   "codemirror_mode": {
    "name": "ipython",
    "version": 3
   },
   "file_extension": ".py",
   "mimetype": "text/x-python",
   "name": "python",
   "nbconvert_exporter": "python",
   "pygments_lexer": "ipython3",
   "version": "3.8.3"
  }
 },
 "nbformat": 4,
 "nbformat_minor": 4
}
